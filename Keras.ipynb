{
 "cells": [
  {
   "cell_type": "code",
   "execution_count": 1,
   "metadata": {},
   "outputs": [],
   "source": [
    "#import tensorflow and keras\n",
    "import tensorflow as tf\n",
    "from tensorflow import keras\n",
    "from tensorflow.keras import layers"
   ]
  },
  {
   "cell_type": "code",
   "execution_count": 2,
   "metadata": {},
   "outputs": [],
   "source": [
    "#import other libraries for data processing\n",
    "import numpy as np \n",
    "import pandas as pd\n",
    "import seaborn as sns\n",
    "import matplotlib.pyplot as plt\n",
    "from sklearn.model_selection import train_test_split\n",
    "from sklearn import preprocessing# Data Prepocessing"
   ]
  },
  {
   "cell_type": "markdown",
   "metadata": {},
   "source": [
    "# Data Prepocessing"
   ]
  },
  {
   "cell_type": "code",
   "execution_count": 3,
   "metadata": {},
   "outputs": [],
   "source": [
    "df = pd.read_csv('./UCI_Credit_Card.csv')"
   ]
  },
  {
   "cell_type": "code",
   "execution_count": 4,
   "metadata": {},
   "outputs": [],
   "source": [
    "df.drop(columns='ID', inplace = True)"
   ]
  },
  {
   "cell_type": "code",
   "execution_count": 5,
   "metadata": {},
   "outputs": [],
   "source": [
    "X = df[[col for col in df.columns if col != 'default.payment.next.month']]\n",
    "y = df['default.payment.next.month']"
   ]
  },
  {
   "cell_type": "code",
   "execution_count": 6,
   "metadata": {},
   "outputs": [],
   "source": [
    "#Normalizing Data\n",
    "x = X.values\n",
    "min_max_scaler = preprocessing.MinMaxScaler()\n",
    "x_scaled = min_max_scaler.fit_transform(x)\n",
    "X = pd.DataFrame(x_scaled)"
   ]
  },
  {
   "cell_type": "code",
   "execution_count": 7,
   "metadata": {},
   "outputs": [],
   "source": [
    "#Train test split\n",
    "X_train, X_test, y_train, y_test = train_test_split(X, y, test_size=0.2, random_state=42)"
   ]
  },
  {
   "cell_type": "code",
   "execution_count": 8,
   "metadata": {},
   "outputs": [],
   "source": [
    "#Imbalance class\n",
    "from imblearn.over_sampling import SMOTE\n",
    "smote = SMOTE(random_state=42)\n",
    "X_sm, y_sm = smote.fit_sample(X, y)"
   ]
  },
  {
   "cell_type": "code",
   "execution_count": 9,
   "metadata": {},
   "outputs": [],
   "source": [
    "#Validation split\n",
    "X_train, X_val, y_train, y_val = train_test_split(X_sm, y_sm, test_size=0.2, random_state=42)"
   ]
  },
  {
   "cell_type": "markdown",
   "metadata": {},
   "source": [
    "###### Loading data into keras"
   ]
  },
  {
   "cell_type": "code",
   "execution_count": 10,
   "metadata": {},
   "outputs": [],
   "source": [
    "Train_dataset = tf.data.Dataset.from_tensor_slices((X_train, y_train))"
   ]
  },
  {
   "cell_type": "code",
   "execution_count": 11,
   "metadata": {},
   "outputs": [
    {
     "name": "stdout",
     "output_type": "stream",
     "text": [
      "Features: [0.10433662 1.         0.39451124 0.66666667 0.27760694 0.33670674\n",
      " 0.4        0.2        0.2        0.4        0.2        0.20548333\n",
      " 0.12344162 0.11673581 0.21148353 0.12881351 0.29538428 0.\n",
      " 0.00140634 0.00521727 0.         0.00376801 0.002677  ], Target: 1\n",
      "Features: [2.02020202e-02 1.00000000e+00 5.00000000e-01 3.33333333e-01\n",
      " 6.37931034e-01 4.00000000e-01 4.00000000e-01 4.00000000e-01\n",
      " 4.00000000e-01 4.00000000e-01 4.00000000e-01 1.70039404e-01\n",
      " 9.24629973e-02 1.01665630e-01 1.85720234e-01 1.09640507e-01\n",
      " 2.83872564e-01 2.06055278e-03 5.93732912e-04 0.00000000e+00\n",
      " 4.05475040e-03 2.77824017e-03 2.26986415e-03], Target: 1\n",
      "Features: [0.05050505 0.         0.33333333 0.33333333 0.34482759 0.2\n",
      " 0.2        0.2        0.2        0.2        0.2        0.23115661\n",
      " 0.11961188 0.11348102 0.17609595 0.09388451 0.27237223 0.00572376\n",
      " 0.00280895 0.00223204 0.01610306 0.00703352 0.00945777], Target: 0\n",
      "Features: [0.14735758 0.         0.33333333 0.33333333 0.27130173 0.4\n",
      " 0.4        0.2        0.2        0.2        0.2        0.23000801\n",
      " 0.15250217 0.13748433 0.2486806  0.18245472 0.34026831 0.\n",
      " 0.00254961 0.00558011 0.01726285 0.0097229  0.01079283], Target: 1\n",
      "Features: [0.2020202  1.         0.33333333 0.33333333 0.22413793 0.1\n",
      " 0.1        0.1        0.2        0.2        0.2        0.16921646\n",
      " 0.06751111 0.10380031 0.19116963 0.11041393 0.28453807 0.00155686\n",
      " 0.01887655 0.00216843 0.00131884 0.00178886 0.00431274], Target: 0\n"
     ]
    }
   ],
   "source": [
    "for feat, targ in Train_dataset.take(5):\n",
    "  print ('Features: {}, Target: {}'.format(feat, targ))"
   ]
  },
  {
   "cell_type": "code",
   "execution_count": 12,
   "metadata": {},
   "outputs": [
    {
     "name": "stdout",
     "output_type": "stream",
     "text": [
      "Features: [0.10433662 1.         0.39451124 0.66666667 0.27760694 0.33670674\n",
      " 0.4        0.2        0.2        0.4        0.2        0.20548333\n",
      " 0.12344162 0.11673581 0.21148353 0.12881351 0.29538428 0.\n",
      " 0.00140634 0.00521727 0.         0.00376801 0.002677  ], Target: 1\n",
      "Features: [2.02020202e-02 1.00000000e+00 5.00000000e-01 3.33333333e-01\n",
      " 6.37931034e-01 4.00000000e-01 4.00000000e-01 4.00000000e-01\n",
      " 4.00000000e-01 4.00000000e-01 4.00000000e-01 1.70039404e-01\n",
      " 9.24629973e-02 1.01665630e-01 1.85720234e-01 1.09640507e-01\n",
      " 2.83872564e-01 2.06055278e-03 5.93732912e-04 0.00000000e+00\n",
      " 4.05475040e-03 2.77824017e-03 2.26986415e-03], Target: 1\n",
      "Features: [0.05050505 0.         0.33333333 0.33333333 0.34482759 0.2\n",
      " 0.2        0.2        0.2        0.2        0.2        0.23115661\n",
      " 0.11961188 0.11348102 0.17609595 0.09388451 0.27237223 0.00572376\n",
      " 0.00280895 0.00223204 0.01610306 0.00703352 0.00945777], Target: 0\n",
      "Features: [0.14735758 0.         0.33333333 0.33333333 0.27130173 0.4\n",
      " 0.4        0.2        0.2        0.2        0.2        0.23000801\n",
      " 0.15250217 0.13748433 0.2486806  0.18245472 0.34026831 0.\n",
      " 0.00254961 0.00558011 0.01726285 0.0097229  0.01079283], Target: 1\n",
      "Features: [0.2020202  1.         0.33333333 0.33333333 0.22413793 0.1\n",
      " 0.1        0.1        0.2        0.2        0.2        0.16921646\n",
      " 0.06751111 0.10380031 0.19116963 0.11041393 0.28453807 0.00155686\n",
      " 0.01887655 0.00216843 0.00131884 0.00178886 0.00431274], Target: 0\n"
     ]
    }
   ],
   "source": [
    "for feat, targ in Train_dataset.take(5):\n",
    "  print ('Features: {}, Target: {}'.format(feat, targ))"
   ]
  },
  {
   "cell_type": "code",
   "execution_count": 13,
   "metadata": {},
   "outputs": [
    {
     "data": {
      "text/html": [
       "<div>\n",
       "<style scoped>\n",
       "    .dataframe tbody tr th:only-of-type {\n",
       "        vertical-align: middle;\n",
       "    }\n",
       "\n",
       "    .dataframe tbody tr th {\n",
       "        vertical-align: top;\n",
       "    }\n",
       "\n",
       "    .dataframe thead th {\n",
       "        text-align: right;\n",
       "    }\n",
       "</style>\n",
       "<table border=\"1\" class=\"dataframe\">\n",
       "  <thead>\n",
       "    <tr style=\"text-align: right;\">\n",
       "      <th></th>\n",
       "      <th>0</th>\n",
       "      <th>1</th>\n",
       "      <th>2</th>\n",
       "      <th>3</th>\n",
       "      <th>4</th>\n",
       "      <th>5</th>\n",
       "      <th>6</th>\n",
       "      <th>7</th>\n",
       "      <th>8</th>\n",
       "      <th>9</th>\n",
       "      <th>...</th>\n",
       "      <th>13</th>\n",
       "      <th>14</th>\n",
       "      <th>15</th>\n",
       "      <th>16</th>\n",
       "      <th>17</th>\n",
       "      <th>18</th>\n",
       "      <th>19</th>\n",
       "      <th>20</th>\n",
       "      <th>21</th>\n",
       "      <th>22</th>\n",
       "    </tr>\n",
       "  </thead>\n",
       "  <tbody>\n",
       "    <tr>\n",
       "      <th>45038</th>\n",
       "      <td>0.104337</td>\n",
       "      <td>1.0</td>\n",
       "      <td>0.394511</td>\n",
       "      <td>0.666667</td>\n",
       "      <td>0.277607</td>\n",
       "      <td>0.336707</td>\n",
       "      <td>0.4</td>\n",
       "      <td>0.2</td>\n",
       "      <td>0.2</td>\n",
       "      <td>0.4</td>\n",
       "      <td>...</td>\n",
       "      <td>0.116736</td>\n",
       "      <td>0.211484</td>\n",
       "      <td>0.128814</td>\n",
       "      <td>0.295384</td>\n",
       "      <td>0.000000</td>\n",
       "      <td>0.001406</td>\n",
       "      <td>0.005217</td>\n",
       "      <td>0.000000</td>\n",
       "      <td>0.003768</td>\n",
       "      <td>0.002677</td>\n",
       "    </tr>\n",
       "    <tr>\n",
       "      <th>14976</th>\n",
       "      <td>0.020202</td>\n",
       "      <td>1.0</td>\n",
       "      <td>0.500000</td>\n",
       "      <td>0.333333</td>\n",
       "      <td>0.637931</td>\n",
       "      <td>0.400000</td>\n",
       "      <td>0.4</td>\n",
       "      <td>0.4</td>\n",
       "      <td>0.4</td>\n",
       "      <td>0.4</td>\n",
       "      <td>...</td>\n",
       "      <td>0.101666</td>\n",
       "      <td>0.185720</td>\n",
       "      <td>0.109641</td>\n",
       "      <td>0.283873</td>\n",
       "      <td>0.002061</td>\n",
       "      <td>0.000594</td>\n",
       "      <td>0.000000</td>\n",
       "      <td>0.004055</td>\n",
       "      <td>0.002778</td>\n",
       "      <td>0.002270</td>\n",
       "    </tr>\n",
       "    <tr>\n",
       "      <th>14304</th>\n",
       "      <td>0.050505</td>\n",
       "      <td>0.0</td>\n",
       "      <td>0.333333</td>\n",
       "      <td>0.333333</td>\n",
       "      <td>0.344828</td>\n",
       "      <td>0.200000</td>\n",
       "      <td>0.2</td>\n",
       "      <td>0.2</td>\n",
       "      <td>0.2</td>\n",
       "      <td>0.2</td>\n",
       "      <td>...</td>\n",
       "      <td>0.113481</td>\n",
       "      <td>0.176096</td>\n",
       "      <td>0.093885</td>\n",
       "      <td>0.272372</td>\n",
       "      <td>0.005724</td>\n",
       "      <td>0.002809</td>\n",
       "      <td>0.002232</td>\n",
       "      <td>0.016103</td>\n",
       "      <td>0.007034</td>\n",
       "      <td>0.009458</td>\n",
       "    </tr>\n",
       "    <tr>\n",
       "      <th>35234</th>\n",
       "      <td>0.147358</td>\n",
       "      <td>0.0</td>\n",
       "      <td>0.333333</td>\n",
       "      <td>0.333333</td>\n",
       "      <td>0.271302</td>\n",
       "      <td>0.400000</td>\n",
       "      <td>0.4</td>\n",
       "      <td>0.2</td>\n",
       "      <td>0.2</td>\n",
       "      <td>0.2</td>\n",
       "      <td>...</td>\n",
       "      <td>0.137484</td>\n",
       "      <td>0.248681</td>\n",
       "      <td>0.182455</td>\n",
       "      <td>0.340268</td>\n",
       "      <td>0.000000</td>\n",
       "      <td>0.002550</td>\n",
       "      <td>0.005580</td>\n",
       "      <td>0.017263</td>\n",
       "      <td>0.009723</td>\n",
       "      <td>0.010793</td>\n",
       "    </tr>\n",
       "    <tr>\n",
       "      <th>25941</th>\n",
       "      <td>0.202020</td>\n",
       "      <td>1.0</td>\n",
       "      <td>0.333333</td>\n",
       "      <td>0.333333</td>\n",
       "      <td>0.224138</td>\n",
       "      <td>0.100000</td>\n",
       "      <td>0.1</td>\n",
       "      <td>0.1</td>\n",
       "      <td>0.2</td>\n",
       "      <td>0.2</td>\n",
       "      <td>...</td>\n",
       "      <td>0.103800</td>\n",
       "      <td>0.191170</td>\n",
       "      <td>0.110414</td>\n",
       "      <td>0.284538</td>\n",
       "      <td>0.001557</td>\n",
       "      <td>0.018877</td>\n",
       "      <td>0.002168</td>\n",
       "      <td>0.001319</td>\n",
       "      <td>0.001789</td>\n",
       "      <td>0.004313</td>\n",
       "    </tr>\n",
       "  </tbody>\n",
       "</table>\n",
       "<p>5 rows × 23 columns</p>\n",
       "</div>"
      ],
      "text/plain": [
       "             0    1         2         3         4         5    6    7    8   \\\n",
       "45038  0.104337  1.0  0.394511  0.666667  0.277607  0.336707  0.4  0.2  0.2   \n",
       "14976  0.020202  1.0  0.500000  0.333333  0.637931  0.400000  0.4  0.4  0.4   \n",
       "14304  0.050505  0.0  0.333333  0.333333  0.344828  0.200000  0.2  0.2  0.2   \n",
       "35234  0.147358  0.0  0.333333  0.333333  0.271302  0.400000  0.4  0.2  0.2   \n",
       "25941  0.202020  1.0  0.333333  0.333333  0.224138  0.100000  0.1  0.1  0.2   \n",
       "\n",
       "        9   ...        13        14        15        16        17        18  \\\n",
       "45038  0.4  ...  0.116736  0.211484  0.128814  0.295384  0.000000  0.001406   \n",
       "14976  0.4  ...  0.101666  0.185720  0.109641  0.283873  0.002061  0.000594   \n",
       "14304  0.2  ...  0.113481  0.176096  0.093885  0.272372  0.005724  0.002809   \n",
       "35234  0.2  ...  0.137484  0.248681  0.182455  0.340268  0.000000  0.002550   \n",
       "25941  0.2  ...  0.103800  0.191170  0.110414  0.284538  0.001557  0.018877   \n",
       "\n",
       "             19        20        21        22  \n",
       "45038  0.005217  0.000000  0.003768  0.002677  \n",
       "14976  0.000000  0.004055  0.002778  0.002270  \n",
       "14304  0.002232  0.016103  0.007034  0.009458  \n",
       "35234  0.005580  0.017263  0.009723  0.010793  \n",
       "25941  0.002168  0.001319  0.001789  0.004313  \n",
       "\n",
       "[5 rows x 23 columns]"
      ]
     },
     "execution_count": 13,
     "metadata": {},
     "output_type": "execute_result"
    }
   ],
   "source": [
    "X_train.head()"
   ]
  },
  {
   "cell_type": "markdown",
   "metadata": {},
   "source": [
    "# Building Model"
   ]
  },
  {
   "cell_type": "code",
   "execution_count": 14,
   "metadata": {},
   "outputs": [],
   "source": [
    "# Read data from pandas df\n",
    "Train_dataset = tf.data.Dataset.from_tensor_slices((X_train, y_train))"
   ]
  },
  {
   "cell_type": "code",
   "execution_count": 15,
   "metadata": {},
   "outputs": [],
   "source": [
    "# Shuffle dataset and create batches\n",
    "Train_dataset = Train_dataset.shuffle(len(df)).batch(10)"
   ]
  },
  {
   "cell_type": "code",
   "execution_count": 16,
   "metadata": {},
   "outputs": [],
   "source": [
    "model = tf.keras.Sequential([\n",
    "tf.keras.layers.Dense(10, activation='relu', name=\"dense_1\"),\n",
    "tf.keras.layers.Dense(10, activation='relu', name=\"dense_2\"),\n",
    "tf.keras.layers.Dense(1, activation=\"sigmoid\", name=\"predictions\")\n",
    "])\n",
    "\n",
    "model.compile(optimizer='adam',\n",
    "            loss=tf.keras.losses.BinaryCrossentropy(from_logits=True),\n",
    "            metrics=['accuracy'])"
   ]
  },
  {
   "cell_type": "code",
   "execution_count": 17,
   "metadata": {},
   "outputs": [],
   "source": [
    "tf.keras.backend.set_floatx('float64')"
   ]
  },
  {
   "cell_type": "markdown",
   "metadata": {},
   "source": [
    "model.fit(Train_dataset, epochs=10, validation_data=(X_val, y_val))"
   ]
  },
  {
   "cell_type": "code",
   "execution_count": 18,
   "metadata": {},
   "outputs": [],
   "source": [
    "#Try another model\n",
    "model = tf.keras.Sequential([\n",
    "    tf.keras.layers.Dense(16, activation='relu', name=\"dense_1\"),\n",
    "    tf.keras.layers.Dense(16, activation='relu', name=\"dense_2\"),\n",
    "    tf.keras.layers.Dense(16, activation='relu', name=\"dense_3\"),\n",
    "    tf.keras.layers.Dense(1, activation=\"sigmoid\", name=\"predictions\")\n",
    "])\n",
    "\n",
    "model.compile(optimizer='adam',\n",
    "            loss=tf.keras.losses.BinaryCrossentropy(from_logits=True),\n",
    "            metrics=['accuracy'])\n",
    "\n",
    "tf.keras.backend.set_floatx('float64')"
   ]
  },
  {
   "cell_type": "code",
   "execution_count": 25,
   "metadata": {},
   "outputs": [
    {
     "data": {
      "image/png": "[encoded data removed]",
      "text/plain": [
       "<IPython.core.display.Image object>"
      ]
     },
     "execution_count": 25,
     "metadata": {},
     "output_type": "execute_result"
    }
   ],
   "source": [
    "tf.keras.utils.plot_model(model)\n",
    "#It isn't seems right because the model has not been built because it does not know its input shape."
   ]
  },
  {
   "cell_type": "code",
   "execution_count": 26,
   "metadata": {},
   "outputs": [],
   "source": [
    "#Adding back input shape\n",
    "model = tf.keras.Sequential([\n",
    "    tf.keras.layers.Flatten(input_shape=(23,)),\n",
    "    tf.keras.layers.Dense(16, activation='relu', name=\"dense_1\"),\n",
    "    tf.keras.layers.Dense(16, activation='relu', name=\"dense_2\"),\n",
    "    tf.keras.layers.Dense(16, activation='relu', name=\"dense_3\"),\n",
    "    tf.keras.layers.Dense(1, activation=\"sigmoid\", name=\"predictions\")\n",
    "])\n"
   ]
  },
  {
   "cell_type": "code",
   "execution_count": 27,
   "metadata": {},
   "outputs": [
    {
     "data": {
      "image/png": "[encoded data removed]",
      "text/plain": [
       "<IPython.core.display.Image object>"
      ]
     },
     "execution_count": 27,
     "metadata": {},
     "output_type": "execute_result"
    }
   ],
   "source": [
    "#It works\n",
    "tf.keras.utils.plot_model(model)"
   ]
  },
  {
   "cell_type": "code",
   "execution_count": 32,
   "metadata": {},
   "outputs": [
    {
     "data": {
      "image/png": "[encoded data removed]",
      "text/plain": [
       "<IPython.core.display.Image object>"
      ]
     },
     "execution_count": 32,
     "metadata": {},
     "output_type": "execute_result"
    }
   ],
   "source": [
    "#It works\n",
    "tf.keras.utils.plot_model(model,show_shapes=True)"
   ]
  },
  {
   "cell_type": "code",
   "execution_count": 30,
   "metadata": {},
   "outputs": [
    {
     "name": "stdout",
     "output_type": "stream",
     "text": [
      "Epoch 1/10\n",
      "3739/3739 [==============================] - 4s 1ms/step - loss: 0.6457 - accuracy: 0.6572 - val_loss: 0.6364 - val_accuracy: 0.6803\n",
      "Epoch 2/10\n",
      "3739/3739 [==============================] - 4s 969us/step - loss: 0.6338 - accuracy: 0.6848 - val_loss: 0.6355 - val_accuracy: 0.6818\n",
      "Epoch 3/10\n",
      "3739/3739 [==============================] - 7s 2ms/step - loss: 0.6333 - accuracy: 0.6860 - val_loss: 0.6353 - val_accuracy: 0.6814\n",
      "Epoch 4/10\n",
      "3739/3739 [==============================] - 6s 2ms/step - loss: 0.6329 - accuracy: 0.6873 - val_loss: 0.6351 - val_accuracy: 0.6799\n",
      "Epoch 5/10\n",
      "3739/3739 [==============================] - 4s 941us/step - loss: 0.6328 - accuracy: 0.6877 - val_loss: 0.6366 - val_accuracy: 0.6702\n",
      "Epoch 6/10\n",
      "3739/3739 [==============================] - 4s 968us/step - loss: 0.6330 - accuracy: 0.6872 - val_loss: 0.6353 - val_accuracy: 0.6791\n",
      "Epoch 7/10\n",
      "3739/3739 [==============================] - 4s 957us/step - loss: 0.6327 - accuracy: 0.6873 - val_loss: 0.6356 - val_accuracy: 0.6760\n",
      "Epoch 8/10\n",
      "3739/3739 [==============================] - 3s 930us/step - loss: 0.6329 - accuracy: 0.6882 - val_loss: 0.6360 - val_accuracy: 0.6857\n",
      "Epoch 9/10\n",
      "3739/3739 [==============================] - 4s 958us/step - loss: 0.6331 - accuracy: 0.6862 - val_loss: 0.6370 - val_accuracy: 0.6852\n",
      "Epoch 10/10\n",
      "3739/3739 [==============================] - 4s 966us/step - loss: 0.6325 - accuracy: 0.6874 - val_loss: 0.6350 - val_accuracy: 0.6821\n"
     ]
    },
    {
     "data": {
      "text/plain": [
       "<tensorflow.python.keras.callbacks.History at 0x17342e09b50>"
      ]
     },
     "execution_count": 30,
     "metadata": {},
     "output_type": "execute_result"
    }
   ],
   "source": [
    "model.compile(optimizer='adam',\n",
    "            loss=tf.keras.losses.BinaryCrossentropy(from_logits=True),\n",
    "            metrics=['accuracy'])\n",
    "\n",
    "tf.keras.backend.set_floatx('float64')\n",
    "\n",
    "model.fit(Train_dataset, epochs=10, validation_data=(X_val, y_val))"
   ]
  },
  {
   "cell_type": "code",
   "execution_count": 34,
   "metadata": {},
   "outputs": [
    {
     "name": "stdout",
     "output_type": "stream",
     "text": [
      "Evaluate on test data\n",
      "47/47 [==============================] - 0s 1ms/step - loss: 0.7022 - accuracy: 0.8062\n",
      "test loss, test acc: [0.7022289187113444, 0.8061666666666667]\n"
     ]
    }
   ],
   "source": [
    "# Evaluate the model on the test data using `evaluate`\n",
    "print(\"Evaluate on test data\")\n",
    "results = model.evaluate(X_test, y_test, batch_size=128)\n",
    "print(\"test loss, test acc:\", results)"
   ]
  },
  {
   "cell_type": "code",
   "execution_count": 36,
   "metadata": {},
   "outputs": [],
   "source": [
    "from sklearn.metrics import roc_curve\n",
    "y_pred_keras = model.predict(X_test).ravel()\n",
    "fpr_keras, tpr_keras, thresholds_keras = roc_curve(y_test, y_pred_keras)"
   ]
  },
  {
   "cell_type": "code",
   "execution_count": 38,
   "metadata": {},
   "outputs": [],
   "source": [
    "from sklearn.metrics import auc\n",
    "auc_keras = auc(fpr_keras, tpr_keras)"
   ]
  },
  {
   "cell_type": "code",
   "execution_count": 41,
   "metadata": {},
   "outputs": [
    {
     "data": {
      "image/png": "[encoded data removed]",
      "text/plain": [
       "<Figure size 432x288 with 1 Axes>"
      ]
     },
     "metadata": {
      "needs_background": "light"
     },
     "output_type": "display_data"
    }
   ],
   "source": [
    "plt.figure(1)\n",
    "plt.plot([0, 1], [0, 1], 'k--')\n",
    "plt.plot(fpr_keras, tpr_keras, label='Keras (area = {:.3f})'.format(auc_keras))\n",
    "plt.xlabel('False positive rate')\n",
    "plt.ylabel('True positive rate')\n",
    "plt.title('ROC curve')\n",
    "plt.legend(loc='best')\n",
    "plt.show()"
   ]
  }
 ],
 "metadata": {
  "kernelspec": {
   "display_name": "Python 3",
   "language": "python",
   "name": "python3"
  },
  "language_info": {
   "codemirror_mode": {
    "name": "ipython",
    "version": 3
   },
   "file_extension": ".py",
   "mimetype": "text/x-python",
   "name": "python",
   "nbconvert_exporter": "python",
   "pygments_lexer": "ipython3",
   "version": "3.8.3"
  }
 },
 "nbformat": 4,
 "nbformat_minor": 4
}
